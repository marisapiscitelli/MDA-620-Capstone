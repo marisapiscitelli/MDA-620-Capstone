{
 "cells": [
  {
   "cell_type": "code",
   "execution_count": 2,
   "id": "2d8e98c9",
   "metadata": {},
   "outputs": [],
   "source": [
    "import numpy as np \n",
    "import pandas as pd \n",
    "import seaborn as sns\n",
    "from sklearn.model_selection import train_test_split\n",
    "from sklearn.linear_model import LinearRegression\n",
    "from sklearn.metrics import mean_absolute_error\n",
    "from sklearn.metrics import mean_squared_error\n",
    "from sklearn.metrics import r2_score\n",
    "import matplotlib.pyplot as plt"
   ]
  },
  {
   "cell_type": "code",
   "execution_count": 10,
   "id": "a139f846",
   "metadata": {},
   "outputs": [],
   "source": [
    "df_i = pd.read_csv(\"https://raw.githubusercontent.com/marisapiscitelli/MDA-620-Capstone/main/social%20media%20influencers-instagram%20-%20-nov%202022.csv\")\n",
    "df_y = pd.read_csv(\"https://raw.githubusercontent.com/marisapiscitelli/MDA-620-Capstone/main/social%20media%20influencers-youtube%20-%20--nov%202022.csv\")"
   ]
  },
  {
   "cell_type": "code",
   "execution_count": 11,
   "id": "82b0f613",
   "metadata": {},
   "outputs": [
    {
     "data": {
      "text/html": [
       "<div>\n",
       "<style scoped>\n",
       "    .dataframe tbody tr th:only-of-type {\n",
       "        vertical-align: middle;\n",
       "    }\n",
       "\n",
       "    .dataframe tbody tr th {\n",
       "        vertical-align: top;\n",
       "    }\n",
       "\n",
       "    .dataframe thead th {\n",
       "        text-align: right;\n",
       "    }\n",
       "</style>\n",
       "<table border=\"1\" class=\"dataframe\">\n",
       "  <thead>\n",
       "    <tr style=\"text-align: right;\">\n",
       "      <th></th>\n",
       "      <th>Unnamed: 0</th>\n",
       "      <th>Name</th>\n",
       "      <th>Instagram Name</th>\n",
       "      <th>Category</th>\n",
       "      <th>Followers</th>\n",
       "      <th>Audience Country</th>\n",
       "      <th>Eng. (Auth.)</th>\n",
       "      <th>Eng. (Avg.)</th>\n",
       "    </tr>\n",
       "  </thead>\n",
       "  <tbody>\n",
       "    <tr>\n",
       "      <th>0</th>\n",
       "      <td>1</td>\n",
       "      <td>cristiano</td>\n",
       "      <td>Cristiano Ronaldo</td>\n",
       "      <td>Sports with a ball</td>\n",
       "      <td>483.1M</td>\n",
       "      <td>India</td>\n",
       "      <td>4.5M</td>\n",
       "      <td>5.6M</td>\n",
       "    </tr>\n",
       "    <tr>\n",
       "      <th>1</th>\n",
       "      <td>2</td>\n",
       "      <td>kyliejenner</td>\n",
       "      <td>Kylie 🤍</td>\n",
       "      <td>Fashion</td>\n",
       "      <td>370M</td>\n",
       "      <td>United States</td>\n",
       "      <td>2.8M</td>\n",
       "      <td>4.4M</td>\n",
       "    </tr>\n",
       "  </tbody>\n",
       "</table>\n",
       "</div>"
      ],
      "text/plain": [
       "   Unnamed: 0         Name     Instagram Name            Category Followers  \\\n",
       "0           1    cristiano  Cristiano Ronaldo  Sports with a ball    483.1M   \n",
       "1           2  kyliejenner            Kylie 🤍             Fashion      370M   \n",
       "\n",
       "  Audience Country Eng. (Auth.) Eng. (Avg.)  \n",
       "0            India         4.5M        5.6M  \n",
       "1    United States         2.8M        4.4M  "
      ]
     },
     "execution_count": 11,
     "metadata": {},
     "output_type": "execute_result"
    }
   ],
   "source": [
    "df_i.head(2)\n",
    "\n",
    "#instagram dataset"
   ]
  },
  {
   "cell_type": "code",
   "execution_count": 12,
   "id": "cde9d31d",
   "metadata": {},
   "outputs": [
    {
     "data": {
      "text/html": [
       "<div>\n",
       "<style scoped>\n",
       "    .dataframe tbody tr th:only-of-type {\n",
       "        vertical-align: middle;\n",
       "    }\n",
       "\n",
       "    .dataframe tbody tr th {\n",
       "        vertical-align: top;\n",
       "    }\n",
       "\n",
       "    .dataframe thead th {\n",
       "        text-align: right;\n",
       "    }\n",
       "</style>\n",
       "<table border=\"1\" class=\"dataframe\">\n",
       "  <thead>\n",
       "    <tr style=\"text-align: right;\">\n",
       "      <th></th>\n",
       "      <th>Unnamed: 0</th>\n",
       "      <th>Youtube channel</th>\n",
       "      <th>youtuber name</th>\n",
       "      <th>Category</th>\n",
       "      <th>Subscribers</th>\n",
       "      <th>Country</th>\n",
       "      <th>\\nViews (Avg.)</th>\n",
       "      <th>Likes (Avg.)</th>\n",
       "      <th>Comments (Avg.)</th>\n",
       "      <th>Category-2</th>\n",
       "    </tr>\n",
       "  </thead>\n",
       "  <tbody>\n",
       "    <tr>\n",
       "      <th>0</th>\n",
       "      <td>1</td>\n",
       "      <td>tseries</td>\n",
       "      <td>T-Series</td>\n",
       "      <td>Music &amp; Dance</td>\n",
       "      <td>229.5M</td>\n",
       "      <td>India</td>\n",
       "      <td>103.8K</td>\n",
       "      <td>2.8K</td>\n",
       "      <td>158</td>\n",
       "      <td>NaN</td>\n",
       "    </tr>\n",
       "    <tr>\n",
       "      <th>1</th>\n",
       "      <td>2</td>\n",
       "      <td>checkgate</td>\n",
       "      <td>Cocomelon - Nursery Rhymes</td>\n",
       "      <td>Education</td>\n",
       "      <td>146.6M</td>\n",
       "      <td>NaN</td>\n",
       "      <td>9.5M</td>\n",
       "      <td>48.3K</td>\n",
       "      <td>0</td>\n",
       "      <td>NaN</td>\n",
       "    </tr>\n",
       "  </tbody>\n",
       "</table>\n",
       "</div>"
      ],
      "text/plain": [
       "   Unnamed: 0 Youtube channel               youtuber name       Category  \\\n",
       "0           1         tseries                    T-Series  Music & Dance   \n",
       "1           2       checkgate  Cocomelon - Nursery Rhymes      Education   \n",
       "\n",
       "  Subscribers Country \\nViews (Avg.) Likes (Avg.) Comments (Avg.) Category-2  \n",
       "0      229.5M   India         103.8K         2.8K             158        NaN  \n",
       "1      146.6M     NaN           9.5M        48.3K               0        NaN  "
      ]
     },
     "execution_count": 12,
     "metadata": {},
     "output_type": "execute_result"
    }
   ],
   "source": [
    "df_y.head(2)\n",
    "\n",
    "#instagram dataset"
   ]
  },
  {
   "cell_type": "code",
   "execution_count": 13,
   "id": "a5e270ba",
   "metadata": {},
   "outputs": [
    {
     "data": {
      "text/plain": [
       "Unnamed: 0           0\n",
       "Name                 0\n",
       "Instagram Name      22\n",
       "Category            48\n",
       "Followers            0\n",
       "Audience Country     4\n",
       "Eng. (Auth.)         0\n",
       "Eng. (Avg.)          0\n",
       "dtype: int64"
      ]
     },
     "execution_count": 13,
     "metadata": {},
     "output_type": "execute_result"
    }
   ],
   "source": [
    "df_i.isnull().sum()"
   ]
  },
  {
   "cell_type": "code",
   "execution_count": 14,
   "id": "141d271f",
   "metadata": {},
   "outputs": [
    {
     "data": {
      "text/plain": [
       "Unnamed: 0           0\n",
       "Youtube channel      0\n",
       "youtuber name        0\n",
       "Category           293\n",
       "Subscribers          0\n",
       "Country            171\n",
       "\\nViews (Avg.)       0\n",
       "Likes (Avg.)         0\n",
       "Comments (Avg.)      0\n",
       "Category-2         727\n",
       "dtype: int64"
      ]
     },
     "execution_count": 14,
     "metadata": {},
     "output_type": "execute_result"
    }
   ],
   "source": [
    "df_y.isnull().sum()"
   ]
  },
  {
   "cell_type": "code",
   "execution_count": 16,
   "id": "86f60f3b",
   "metadata": {},
   "outputs": [],
   "source": [
    "df_i.drop_duplicates(subset=['Instagram Name'],inplace=True)"
   ]
  },
  {
   "cell_type": "code",
   "execution_count": 17,
   "id": "2b5a4ffa",
   "metadata": {},
   "outputs": [
    {
     "data": {
      "text/plain": [
       "(976, 8)"
      ]
     },
     "execution_count": 17,
     "metadata": {},
     "output_type": "execute_result"
    }
   ],
   "source": [
    "df_i.shape"
   ]
  },
  {
   "cell_type": "code",
   "execution_count": 18,
   "id": "3dd962ff",
   "metadata": {},
   "outputs": [],
   "source": [
    "df_i.drop(labels=['Instagram Name','Eng. (Auth.)'],axis=1,inplace=True)"
   ]
  },
  {
   "cell_type": "code",
   "execution_count": 19,
   "id": "caa4ea46",
   "metadata": {},
   "outputs": [
    {
     "data": {
      "text/html": [
       "<div>\n",
       "<style scoped>\n",
       "    .dataframe tbody tr th:only-of-type {\n",
       "        vertical-align: middle;\n",
       "    }\n",
       "\n",
       "    .dataframe tbody tr th {\n",
       "        vertical-align: top;\n",
       "    }\n",
       "\n",
       "    .dataframe thead th {\n",
       "        text-align: right;\n",
       "    }\n",
       "</style>\n",
       "<table border=\"1\" class=\"dataframe\">\n",
       "  <thead>\n",
       "    <tr style=\"text-align: right;\">\n",
       "      <th></th>\n",
       "      <th>Unnamed: 0</th>\n",
       "      <th>Name</th>\n",
       "      <th>Category</th>\n",
       "      <th>Followers</th>\n",
       "      <th>Audience Country</th>\n",
       "      <th>Eng. (Avg.)</th>\n",
       "    </tr>\n",
       "  </thead>\n",
       "  <tbody>\n",
       "    <tr>\n",
       "      <th>0</th>\n",
       "      <td>1</td>\n",
       "      <td>cristiano</td>\n",
       "      <td>Sports with a ball</td>\n",
       "      <td>483.1M</td>\n",
       "      <td>India</td>\n",
       "      <td>5.6M</td>\n",
       "    </tr>\n",
       "    <tr>\n",
       "      <th>1</th>\n",
       "      <td>2</td>\n",
       "      <td>kyliejenner</td>\n",
       "      <td>Fashion</td>\n",
       "      <td>370M</td>\n",
       "      <td>United States</td>\n",
       "      <td>4.4M</td>\n",
       "    </tr>\n",
       "  </tbody>\n",
       "</table>\n",
       "</div>"
      ],
      "text/plain": [
       "   Unnamed: 0         Name            Category Followers Audience Country  \\\n",
       "0           1    cristiano  Sports with a ball    483.1M            India   \n",
       "1           2  kyliejenner             Fashion      370M    United States   \n",
       "\n",
       "  Eng. (Avg.)  \n",
       "0        5.6M  \n",
       "1        4.4M  "
      ]
     },
     "execution_count": 19,
     "metadata": {},
     "output_type": "execute_result"
    }
   ],
   "source": [
    "df_i.head(2)"
   ]
  },
  {
   "cell_type": "code",
   "execution_count": 56,
   "id": "d727f785",
   "metadata": {},
   "outputs": [],
   "source": [
    "import re\n",
    "def convert(x):\n",
    "    return re.findall('\\d+\\.?\\d*',x)"
   ]
  },
  {
   "cell_type": "code",
   "execution_count": 57,
   "id": "bf63ee95",
   "metadata": {},
   "outputs": [],
   "source": [
    "def change(df,list1):\n",
    "    for i in list1:\n",
    "        df['new'+i]=df[i].apply(convert)\n",
    "        df['new'+i]=df['new'+i].apply(lambda x: \"\".join(x))\n",
    "        df['new'+i]=pd.to_numeric(df['new'+i])\n",
    "        df['new'+i]=np.where(['M' in j for j in df[i]],df['new'+i]*1000000,\n",
    "                             np.where(['K' in j1 for j1 in df[i]],df['new'+i]*1000,df['new'+i]))\n",
    "    return df"
   ]
  },
  {
   "cell_type": "code",
   "execution_count": 58,
   "id": "2198167c",
   "metadata": {},
   "outputs": [],
   "source": [
    "li=['Followers','Eng. (Avg.)']"
   ]
  },
  {
   "cell_type": "code",
   "execution_count": 59,
   "id": "51b30e9d",
   "metadata": {
    "scrolled": true
   },
   "outputs": [
    {
     "data": {
      "text/html": [
       "<div>\n",
       "<style scoped>\n",
       "    .dataframe tbody tr th:only-of-type {\n",
       "        vertical-align: middle;\n",
       "    }\n",
       "\n",
       "    .dataframe tbody tr th {\n",
       "        vertical-align: top;\n",
       "    }\n",
       "\n",
       "    .dataframe thead th {\n",
       "        text-align: right;\n",
       "    }\n",
       "</style>\n",
       "<table border=\"1\" class=\"dataframe\">\n",
       "  <thead>\n",
       "    <tr style=\"text-align: right;\">\n",
       "      <th></th>\n",
       "      <th>Unnamed: 0</th>\n",
       "      <th>Name</th>\n",
       "      <th>Category</th>\n",
       "      <th>Followers</th>\n",
       "      <th>Audience Country</th>\n",
       "      <th>Eng. (Avg.)</th>\n",
       "      <th>newFollowers</th>\n",
       "      <th>newEng. (Avg.)</th>\n",
       "    </tr>\n",
       "  </thead>\n",
       "  <tbody>\n",
       "    <tr>\n",
       "      <th>0</th>\n",
       "      <td>1</td>\n",
       "      <td>cristiano</td>\n",
       "      <td>Sports with a ball</td>\n",
       "      <td>483.1M</td>\n",
       "      <td>India</td>\n",
       "      <td>5.6M</td>\n",
       "      <td>483100000.0</td>\n",
       "      <td>5600000.0</td>\n",
       "    </tr>\n",
       "    <tr>\n",
       "      <th>1</th>\n",
       "      <td>2</td>\n",
       "      <td>kyliejenner</td>\n",
       "      <td>Fashion</td>\n",
       "      <td>370M</td>\n",
       "      <td>United States</td>\n",
       "      <td>4.4M</td>\n",
       "      <td>370000000.0</td>\n",
       "      <td>4400000.0</td>\n",
       "    </tr>\n",
       "    <tr>\n",
       "      <th>2</th>\n",
       "      <td>3</td>\n",
       "      <td>leomessi</td>\n",
       "      <td>Sports with a ball</td>\n",
       "      <td>357.8M</td>\n",
       "      <td>Indonesia</td>\n",
       "      <td>4.1M</td>\n",
       "      <td>357800000.0</td>\n",
       "      <td>4100000.0</td>\n",
       "    </tr>\n",
       "    <tr>\n",
       "      <th>3</th>\n",
       "      <td>4</td>\n",
       "      <td>arianagrande</td>\n",
       "      <td>Music</td>\n",
       "      <td>331.6M</td>\n",
       "      <td>United States</td>\n",
       "      <td>4M</td>\n",
       "      <td>331600000.0</td>\n",
       "      <td>4000000.0</td>\n",
       "    </tr>\n",
       "    <tr>\n",
       "      <th>4</th>\n",
       "      <td>5</td>\n",
       "      <td>zendaya</td>\n",
       "      <td>Cinema &amp; Actors/actresses</td>\n",
       "      <td>152.2M</td>\n",
       "      <td>United States</td>\n",
       "      <td>6.5M</td>\n",
       "      <td>152200000.0</td>\n",
       "      <td>6500000.0</td>\n",
       "    </tr>\n",
       "    <tr>\n",
       "      <th>...</th>\n",
       "      <td>...</td>\n",
       "      <td>...</td>\n",
       "      <td>...</td>\n",
       "      <td>...</td>\n",
       "      <td>...</td>\n",
       "      <td>...</td>\n",
       "      <td>...</td>\n",
       "      <td>...</td>\n",
       "    </tr>\n",
       "    <tr>\n",
       "      <th>995</th>\n",
       "      <td>996</td>\n",
       "      <td>thenewclassic</td>\n",
       "      <td>Music</td>\n",
       "      <td>16.7M</td>\n",
       "      <td>United States</td>\n",
       "      <td>132.8K</td>\n",
       "      <td>16700000.0</td>\n",
       "      <td>132800.0</td>\n",
       "    </tr>\n",
       "    <tr>\n",
       "      <th>996</th>\n",
       "      <td>997</td>\n",
       "      <td>min.nicha</td>\n",
       "      <td>Lifestyle</td>\n",
       "      <td>4.2M</td>\n",
       "      <td>Thailand</td>\n",
       "      <td>526.6K</td>\n",
       "      <td>4200000.0</td>\n",
       "      <td>526600.0</td>\n",
       "    </tr>\n",
       "    <tr>\n",
       "      <th>997</th>\n",
       "      <td>998</td>\n",
       "      <td>francety</td>\n",
       "      <td>Adult content</td>\n",
       "      <td>11.4M</td>\n",
       "      <td>India</td>\n",
       "      <td>196.6K</td>\n",
       "      <td>11400000.0</td>\n",
       "      <td>196600.0</td>\n",
       "    </tr>\n",
       "    <tr>\n",
       "      <th>998</th>\n",
       "      <td>999</td>\n",
       "      <td>silambarasantrofficial</td>\n",
       "      <td>Shows</td>\n",
       "      <td>10.2M</td>\n",
       "      <td>India</td>\n",
       "      <td>216.6K</td>\n",
       "      <td>10200000.0</td>\n",
       "      <td>216600.0</td>\n",
       "    </tr>\n",
       "    <tr>\n",
       "      <th>999</th>\n",
       "      <td>1000</td>\n",
       "      <td>lalala_lfamily</td>\n",
       "      <td>Music</td>\n",
       "      <td>2.5M</td>\n",
       "      <td>Thailand</td>\n",
       "      <td>900.4K</td>\n",
       "      <td>2500000.0</td>\n",
       "      <td>900400.0</td>\n",
       "    </tr>\n",
       "  </tbody>\n",
       "</table>\n",
       "<p>976 rows × 8 columns</p>\n",
       "</div>"
      ],
      "text/plain": [
       "     Unnamed: 0                    Name                   Category Followers  \\\n",
       "0             1               cristiano         Sports with a ball    483.1M   \n",
       "1             2             kyliejenner                    Fashion      370M   \n",
       "2             3                leomessi         Sports with a ball    357.8M   \n",
       "3             4            arianagrande                      Music    331.6M   \n",
       "4             5                 zendaya  Cinema & Actors/actresses    152.2M   \n",
       "..          ...                     ...                        ...       ...   \n",
       "995         996           thenewclassic                      Music     16.7M   \n",
       "996         997               min.nicha                  Lifestyle      4.2M   \n",
       "997         998                francety              Adult content     11.4M   \n",
       "998         999  silambarasantrofficial                      Shows     10.2M   \n",
       "999        1000          lalala_lfamily                      Music      2.5M   \n",
       "\n",
       "    Audience Country Eng. (Avg.)  newFollowers  newEng. (Avg.)  \n",
       "0              India        5.6M   483100000.0       5600000.0  \n",
       "1      United States        4.4M   370000000.0       4400000.0  \n",
       "2          Indonesia        4.1M   357800000.0       4100000.0  \n",
       "3      United States          4M   331600000.0       4000000.0  \n",
       "4      United States        6.5M   152200000.0       6500000.0  \n",
       "..               ...         ...           ...             ...  \n",
       "995    United States      132.8K    16700000.0        132800.0  \n",
       "996         Thailand      526.6K     4200000.0        526600.0  \n",
       "997            India      196.6K    11400000.0        196600.0  \n",
       "998            India      216.6K    10200000.0        216600.0  \n",
       "999         Thailand      900.4K     2500000.0        900400.0  \n",
       "\n",
       "[976 rows x 8 columns]"
      ]
     },
     "execution_count": 59,
     "metadata": {},
     "output_type": "execute_result"
    }
   ],
   "source": [
    "change(df_i,li)"
   ]
  },
  {
   "cell_type": "code",
   "execution_count": 63,
   "id": "8320dc26",
   "metadata": {},
   "outputs": [],
   "source": [
    "df_i['Engagement Rate']=np.round((df_i['newEng. (Avg.)']/df_i['newFollowers'])*100,3)"
   ]
  },
  {
   "cell_type": "code",
   "execution_count": 64,
   "id": "dae01abd",
   "metadata": {},
   "outputs": [
    {
     "name": "stdout",
     "output_type": "stream",
     "text": [
      "['M']\n"
     ]
    }
   ],
   "source": [
    "print(df_i['Followers'].str[-1].unique())"
   ]
  },
  {
   "cell_type": "code",
   "execution_count": 65,
   "id": "5b535b60",
   "metadata": {},
   "outputs": [],
   "source": [
    "# for convenience \n",
    "df_i['newFollowers']=df_i['newFollowers']/1000000"
   ]
  },
  {
   "cell_type": "code",
   "execution_count": 67,
   "id": "ce52325a",
   "metadata": {},
   "outputs": [],
   "source": [
    "df_i.drop(labels=['Eng. (Avg.)','newEng. (Avg.)'],axis=1,inplace=True)"
   ]
  },
  {
   "cell_type": "code",
   "execution_count": 68,
   "id": "b33e36ff",
   "metadata": {},
   "outputs": [
    {
     "data": {
      "text/html": [
       "<div>\n",
       "<style scoped>\n",
       "    .dataframe tbody tr th:only-of-type {\n",
       "        vertical-align: middle;\n",
       "    }\n",
       "\n",
       "    .dataframe tbody tr th {\n",
       "        vertical-align: top;\n",
       "    }\n",
       "\n",
       "    .dataframe thead th {\n",
       "        text-align: right;\n",
       "    }\n",
       "</style>\n",
       "<table border=\"1\" class=\"dataframe\">\n",
       "  <thead>\n",
       "    <tr style=\"text-align: right;\">\n",
       "      <th></th>\n",
       "      <th>Unnamed: 0</th>\n",
       "      <th>Name</th>\n",
       "      <th>Category</th>\n",
       "      <th>Followers</th>\n",
       "      <th>Audience Country</th>\n",
       "      <th>newFollowers</th>\n",
       "      <th>Engagement Rate</th>\n",
       "    </tr>\n",
       "  </thead>\n",
       "  <tbody>\n",
       "    <tr>\n",
       "      <th>0</th>\n",
       "      <td>1</td>\n",
       "      <td>cristiano</td>\n",
       "      <td>Sports with a ball</td>\n",
       "      <td>483.1M</td>\n",
       "      <td>India</td>\n",
       "      <td>483.1</td>\n",
       "      <td>1.159</td>\n",
       "    </tr>\n",
       "    <tr>\n",
       "      <th>1</th>\n",
       "      <td>2</td>\n",
       "      <td>kyliejenner</td>\n",
       "      <td>Fashion</td>\n",
       "      <td>370M</td>\n",
       "      <td>United States</td>\n",
       "      <td>370.0</td>\n",
       "      <td>1.189</td>\n",
       "    </tr>\n",
       "    <tr>\n",
       "      <th>2</th>\n",
       "      <td>3</td>\n",
       "      <td>leomessi</td>\n",
       "      <td>Sports with a ball</td>\n",
       "      <td>357.8M</td>\n",
       "      <td>Indonesia</td>\n",
       "      <td>357.8</td>\n",
       "      <td>1.146</td>\n",
       "    </tr>\n",
       "    <tr>\n",
       "      <th>3</th>\n",
       "      <td>4</td>\n",
       "      <td>arianagrande</td>\n",
       "      <td>Music</td>\n",
       "      <td>331.6M</td>\n",
       "      <td>United States</td>\n",
       "      <td>331.6</td>\n",
       "      <td>1.206</td>\n",
       "    </tr>\n",
       "    <tr>\n",
       "      <th>4</th>\n",
       "      <td>5</td>\n",
       "      <td>zendaya</td>\n",
       "      <td>Cinema &amp; Actors/actresses</td>\n",
       "      <td>152.2M</td>\n",
       "      <td>United States</td>\n",
       "      <td>152.2</td>\n",
       "      <td>4.271</td>\n",
       "    </tr>\n",
       "  </tbody>\n",
       "</table>\n",
       "</div>"
      ],
      "text/plain": [
       "   Unnamed: 0          Name                   Category Followers  \\\n",
       "0           1     cristiano         Sports with a ball    483.1M   \n",
       "1           2   kyliejenner                    Fashion      370M   \n",
       "2           3      leomessi         Sports with a ball    357.8M   \n",
       "3           4  arianagrande                      Music    331.6M   \n",
       "4           5       zendaya  Cinema & Actors/actresses    152.2M   \n",
       "\n",
       "  Audience Country  newFollowers  Engagement Rate  \n",
       "0            India         483.1            1.159  \n",
       "1    United States         370.0            1.189  \n",
       "2        Indonesia         357.8            1.146  \n",
       "3    United States         331.6            1.206  \n",
       "4    United States         152.2            4.271  "
      ]
     },
     "execution_count": 68,
     "metadata": {},
     "output_type": "execute_result"
    }
   ],
   "source": [
    "df_i.head(5)"
   ]
  },
  {
   "cell_type": "code",
   "execution_count": 69,
   "id": "6950e1f3",
   "metadata": {},
   "outputs": [
    {
     "data": {
      "text/html": [
       "<div>\n",
       "<style scoped>\n",
       "    .dataframe tbody tr th:only-of-type {\n",
       "        vertical-align: middle;\n",
       "    }\n",
       "\n",
       "    .dataframe tbody tr th {\n",
       "        vertical-align: top;\n",
       "    }\n",
       "\n",
       "    .dataframe thead th {\n",
       "        text-align: right;\n",
       "    }\n",
       "</style>\n",
       "<table border=\"1\" class=\"dataframe\">\n",
       "  <thead>\n",
       "    <tr style=\"text-align: right;\">\n",
       "      <th></th>\n",
       "      <th>Unnamed: 0</th>\n",
       "      <th>Name</th>\n",
       "      <th>Followers</th>\n",
       "      <th>Engagement Rate</th>\n",
       "    </tr>\n",
       "  </thead>\n",
       "  <tbody>\n",
       "    <tr>\n",
       "      <th>0</th>\n",
       "      <td>32</td>\n",
       "      <td>instagram</td>\n",
       "      <td>549.3M</td>\n",
       "      <td>0.066</td>\n",
       "    </tr>\n",
       "    <tr>\n",
       "      <th>1</th>\n",
       "      <td>1</td>\n",
       "      <td>cristiano</td>\n",
       "      <td>483.1M</td>\n",
       "      <td>1.159</td>\n",
       "    </tr>\n",
       "    <tr>\n",
       "      <th>2</th>\n",
       "      <td>2</td>\n",
       "      <td>kyliejenner</td>\n",
       "      <td>370M</td>\n",
       "      <td>1.189</td>\n",
       "    </tr>\n",
       "    <tr>\n",
       "      <th>3</th>\n",
       "      <td>3</td>\n",
       "      <td>leomessi</td>\n",
       "      <td>357.8M</td>\n",
       "      <td>1.146</td>\n",
       "    </tr>\n",
       "    <tr>\n",
       "      <th>4</th>\n",
       "      <td>7</td>\n",
       "      <td>selenagomez</td>\n",
       "      <td>347.6M</td>\n",
       "      <td>0.662</td>\n",
       "    </tr>\n",
       "    <tr>\n",
       "      <th>5</th>\n",
       "      <td>36</td>\n",
       "      <td>therock</td>\n",
       "      <td>338.1M</td>\n",
       "      <td>0.137</td>\n",
       "    </tr>\n",
       "    <tr>\n",
       "      <th>6</th>\n",
       "      <td>4</td>\n",
       "      <td>arianagrande</td>\n",
       "      <td>331.6M</td>\n",
       "      <td>1.206</td>\n",
       "    </tr>\n",
       "    <tr>\n",
       "      <th>7</th>\n",
       "      <td>24</td>\n",
       "      <td>kimkardashian</td>\n",
       "      <td>330.3M</td>\n",
       "      <td>0.244</td>\n",
       "    </tr>\n",
       "    <tr>\n",
       "      <th>8</th>\n",
       "      <td>11</td>\n",
       "      <td>beyonce</td>\n",
       "      <td>275.7M</td>\n",
       "      <td>0.798</td>\n",
       "    </tr>\n",
       "    <tr>\n",
       "      <th>9</th>\n",
       "      <td>39</td>\n",
       "      <td>khloekardashian</td>\n",
       "      <td>272M</td>\n",
       "      <td>0.180</td>\n",
       "    </tr>\n",
       "    <tr>\n",
       "      <th>10</th>\n",
       "      <td>13</td>\n",
       "      <td>justinbieber</td>\n",
       "      <td>258.2M</td>\n",
       "      <td>0.736</td>\n",
       "    </tr>\n",
       "    <tr>\n",
       "      <th>11</th>\n",
       "      <td>15</td>\n",
       "      <td>kendalljenner</td>\n",
       "      <td>258.2M</td>\n",
       "      <td>0.581</td>\n",
       "    </tr>\n",
       "    <tr>\n",
       "      <th>12</th>\n",
       "      <td>93</td>\n",
       "      <td>natgeo</td>\n",
       "      <td>239.5M</td>\n",
       "      <td>0.072</td>\n",
       "    </tr>\n",
       "    <tr>\n",
       "      <th>13</th>\n",
       "      <td>117</td>\n",
       "      <td>nike</td>\n",
       "      <td>238.5M</td>\n",
       "      <td>0.060</td>\n",
       "    </tr>\n",
       "    <tr>\n",
       "      <th>14</th>\n",
       "      <td>10</td>\n",
       "      <td>taylorswift</td>\n",
       "      <td>224.9M</td>\n",
       "      <td>1.245</td>\n",
       "    </tr>\n",
       "  </tbody>\n",
       "</table>\n",
       "</div>"
      ],
      "text/plain": [
       "    Unnamed: 0             Name Followers  Engagement Rate\n",
       "0           32        instagram    549.3M            0.066\n",
       "1            1        cristiano    483.1M            1.159\n",
       "2            2      kyliejenner      370M            1.189\n",
       "3            3         leomessi    357.8M            1.146\n",
       "4            7      selenagomez    347.6M            0.662\n",
       "5           36          therock    338.1M            0.137\n",
       "6            4     arianagrande    331.6M            1.206\n",
       "7           24    kimkardashian    330.3M            0.244\n",
       "8           11          beyonce    275.7M            0.798\n",
       "9           39  khloekardashian      272M            0.180\n",
       "10          13     justinbieber    258.2M            0.736\n",
       "11          15    kendalljenner    258.2M            0.581\n",
       "12          93           natgeo    239.5M            0.072\n",
       "13         117             nike    238.5M            0.060\n",
       "14          10      taylorswift    224.9M            1.245"
      ]
     },
     "execution_count": 69,
     "metadata": {},
     "output_type": "execute_result"
    }
   ],
   "source": [
    "df_i.sort_values(by='newFollowers',ascending=False,ignore_index=True).iloc[0:15,[0,1,3,-1]]"
   ]
  },
  {
   "cell_type": "code",
   "execution_count": 71,
   "id": "73bd1c18",
   "metadata": {},
   "outputs": [
    {
     "data": {
      "text/plain": [
       "<AxesSubplot:title={'center':'Top 15 most followed celebrities on instagram'}, xlabel='newFollowers', ylabel='Name'>"
      ]
     },
     "execution_count": 71,
     "metadata": {},
     "output_type": "execute_result"
    },
    {
     "data": {
      "image/png": "[encoded data removed]",
      "text/plain": [
       "<Figure size 432x288 with 1 Axes>"
      ]
     },
     "metadata": {
      "needs_background": "light"
     },
     "output_type": "display_data"
    }
   ],
   "source": [
    "plt.title('Top 15 most followed celebrities on instagram')\n",
    "plt.xlabel('Followers in Million')\n",
    "sns.barplot(y='Name',x='newFollowers',data=df_i.sort_values(by='newFollowers',ascending=False).head(15))"
   ]
  },
  {
   "cell_type": "code",
   "execution_count": 75,
   "id": "3f3ebe91",
   "metadata": {},
   "outputs": [],
   "source": [
    "pallete=['red','green','yellow','salmon','cyan','blue','orange']"
   ]
  },
  {
   "cell_type": "code",
   "execution_count": 76,
   "id": "2ad85db5",
   "metadata": {},
   "outputs": [],
   "source": [
    "def plot(df):\n",
    "    plt.figure(figsize=(8,6))\n",
    "    plt.xlabel('number of times category occured')\n",
    "    plt.ylabel('Category')\n",
    "    df['Category'].value_counts().sort_values(ascending=True).plot.barh(color=pallete)"
   ]
  },
  {
   "cell_type": "code",
   "execution_count": 77,
   "id": "98b193e1",
   "metadata": {},
   "outputs": [
    {
     "data": {
      "image/png": "[encoded data removed]",
      "text/plain": [
       "<Figure size 576x432 with 1 Axes>"
      ]
     },
     "metadata": {
      "needs_background": "light"
     },
     "output_type": "display_data"
    }
   ],
   "source": [
    "plot(df_i)"
   ]
  },
  {
   "cell_type": "code",
   "execution_count": 79,
   "id": "6ac68a7c",
   "metadata": {},
   "outputs": [],
   "source": [
    "df_y.drop_duplicates(subset=['Youtube channel'],inplace=True)"
   ]
  },
  {
   "cell_type": "code",
   "execution_count": 90,
   "id": "18ed1f44",
   "metadata": {},
   "outputs": [],
   "source": [
    "pallete=['cyan','blue','orange','red','green','yellow','salmon']"
   ]
  },
  {
   "cell_type": "code",
   "execution_count": 91,
   "id": "ba4e5799",
   "metadata": {},
   "outputs": [
    {
     "data": {
      "image/png": "[encoded data removed]",
      "text/plain": [
       "<Figure size 576x432 with 1 Axes>"
      ]
     },
     "metadata": {
      "needs_background": "light"
     },
     "output_type": "display_data"
    }
   ],
   "source": [
    "plot(df_y)"
   ]
  },
  {
   "cell_type": "code",
   "execution_count": 92,
   "id": "0bc3d8c0",
   "metadata": {},
   "outputs": [],
   "source": [
    "def plot_c(df):\n",
    "    plt.figure(figsize=(10,8))\n",
    "    plt.xlabel('number of times category occured')\n",
    "    df['Audience Country'].value_counts().sort_values().plot.barh(color=pallete)"
   ]
  },
  {
   "cell_type": "code",
   "execution_count": 93,
   "id": "ee674eb9",
   "metadata": {},
   "outputs": [],
   "source": [
    "#plot_c(df_i)"
   ]
  },
  {
   "cell_type": "code",
   "execution_count": 94,
   "id": "24f64deb",
   "metadata": {},
   "outputs": [],
   "source": [
    "#plot_c(df_y)"
   ]
  },
  {
   "cell_type": "code",
   "execution_count": 101,
   "id": "83559b16",
   "metadata": {},
   "outputs": [],
   "source": [
    "def demand(data,category):\n",
    "    return data[data['Category']==category]['Audience Country'].value_counts().sort_values(ascending=True).plot.barh(color=pallete)"
   ]
  },
  {
   "cell_type": "code",
   "execution_count": 102,
   "id": "0247ecac",
   "metadata": {},
   "outputs": [
    {
     "data": {
      "text/plain": [
       "<AxesSubplot:>"
      ]
     },
     "execution_count": 102,
     "metadata": {},
     "output_type": "execute_result"
    },
    {
     "data": {
      "image/png": "[encoded data removed]",
      "text/plain": [
       "<Figure size 432x288 with 1 Axes>"
      ]
     },
     "metadata": {
      "needs_background": "light"
     },
     "output_type": "display_data"
    }
   ],
   "source": [
    "demand(df_i,'Lifestyle')"
   ]
  },
  {
   "cell_type": "code",
   "execution_count": 104,
   "id": "73873ef1",
   "metadata": {},
   "outputs": [
    {
     "data": {
      "text/html": [
       "<div>\n",
       "<style scoped>\n",
       "    .dataframe tbody tr th:only-of-type {\n",
       "        vertical-align: middle;\n",
       "    }\n",
       "\n",
       "    .dataframe tbody tr th {\n",
       "        vertical-align: top;\n",
       "    }\n",
       "\n",
       "    .dataframe thead th {\n",
       "        text-align: right;\n",
       "    }\n",
       "</style>\n",
       "<table border=\"1\" class=\"dataframe\">\n",
       "  <thead>\n",
       "    <tr style=\"text-align: right;\">\n",
       "      <th></th>\n",
       "      <th>Youtube channel</th>\n",
       "      <th>youtuber name</th>\n",
       "      <th>Category</th>\n",
       "    </tr>\n",
       "  </thead>\n",
       "  <tbody>\n",
       "    <tr>\n",
       "      <th>0</th>\n",
       "      <td>tseries</td>\n",
       "      <td>T-Series</td>\n",
       "      <td>Music &amp; Dance</td>\n",
       "    </tr>\n",
       "    <tr>\n",
       "      <th>1</th>\n",
       "      <td>checkgate</td>\n",
       "      <td>Cocomelon - Nursery Rhymes</td>\n",
       "      <td>Education</td>\n",
       "    </tr>\n",
       "    <tr>\n",
       "      <th>2</th>\n",
       "      <td>PewDiePie</td>\n",
       "      <td>PewDiePie</td>\n",
       "      <td>Animation</td>\n",
       "    </tr>\n",
       "    <tr>\n",
       "      <th>3</th>\n",
       "      <td>MrBeast6000</td>\n",
       "      <td>MrBeast</td>\n",
       "      <td>Video games</td>\n",
       "    </tr>\n",
       "    <tr>\n",
       "      <th>4</th>\n",
       "      <td>✿ Kids Diana Show</td>\n",
       "      <td>✿ Kids Diana Show</td>\n",
       "      <td>Animation</td>\n",
       "    </tr>\n",
       "    <tr>\n",
       "      <th>5</th>\n",
       "      <td>Like Nastya</td>\n",
       "      <td>Like Nastya</td>\n",
       "      <td>Toys</td>\n",
       "    </tr>\n",
       "    <tr>\n",
       "      <th>6</th>\n",
       "      <td>WWEFanNation</td>\n",
       "      <td>WWE</td>\n",
       "      <td>Video games</td>\n",
       "    </tr>\n",
       "    <tr>\n",
       "      <th>7</th>\n",
       "      <td>zeemusiccompany</td>\n",
       "      <td>Zee Music Company</td>\n",
       "      <td>Music &amp; Dance</td>\n",
       "    </tr>\n",
       "    <tr>\n",
       "      <th>8</th>\n",
       "      <td>Vlad and Niki</td>\n",
       "      <td>Vlad and Niki</td>\n",
       "      <td>Animation</td>\n",
       "    </tr>\n",
       "    <tr>\n",
       "      <th>9</th>\n",
       "      <td>BLACKPINK</td>\n",
       "      <td>BLACKPINK</td>\n",
       "      <td>Music &amp; Dance</td>\n",
       "    </tr>\n",
       "  </tbody>\n",
       "</table>\n",
       "</div>"
      ],
      "text/plain": [
       "     Youtube channel               youtuber name       Category\n",
       "0            tseries                    T-Series  Music & Dance\n",
       "1          checkgate  Cocomelon - Nursery Rhymes      Education\n",
       "2          PewDiePie                   PewDiePie      Animation\n",
       "3        MrBeast6000                     MrBeast    Video games\n",
       "4  ✿ Kids Diana Show           ✿ Kids Diana Show      Animation\n",
       "5        Like Nastya                 Like Nastya           Toys\n",
       "6       WWEFanNation                         WWE    Video games\n",
       "7    zeemusiccompany           Zee Music Company  Music & Dance\n",
       "8      Vlad and Niki               Vlad and Niki      Animation\n",
       "9          BLACKPINK                   BLACKPINK  Music & Dance"
      ]
     },
     "execution_count": 104,
     "metadata": {},
     "output_type": "execute_result"
    }
   ],
   "source": [
    "df_y.iloc[0:10,[1,2,3]]"
   ]
  },
  {
   "cell_type": "code",
   "execution_count": 105,
   "id": "fb0d7a34",
   "metadata": {},
   "outputs": [],
   "source": [
    "ly=['Followers','avg views', 'avg likes', 'avg comments']"
   ]
  },
  {
   "cell_type": "code",
   "execution_count": 106,
   "id": "8663e6b3",
   "metadata": {},
   "outputs": [
    {
     "data": {
      "text/plain": [
       "count    976.000000\n",
       "mean      27.060758\n",
       "std       45.745292\n",
       "min        1.900000\n",
       "25%        9.000000\n",
       "50%       15.000000\n",
       "75%       26.825000\n",
       "max      549.300000\n",
       "Name: newFollowers, dtype: float64"
      ]
     },
     "execution_count": 106,
     "metadata": {},
     "output_type": "execute_result"
    }
   ],
   "source": [
    "df_i['newFollowers'].describe()"
   ]
  },
  {
   "cell_type": "code",
   "execution_count": 107,
   "id": "e54e007d",
   "metadata": {},
   "outputs": [
    {
     "data": {
      "text/plain": [
       "65.55"
      ]
     },
     "execution_count": 107,
     "metadata": {},
     "output_type": "execute_result"
    }
   ],
   "source": [
    "df_i['newFollowers'].quantile(0.94)"
   ]
  },
  {
   "cell_type": "code",
   "execution_count": 108,
   "id": "4b691ec9",
   "metadata": {},
   "outputs": [
    {
     "data": {
      "text/html": [
       "<div>\n",
       "<style scoped>\n",
       "    .dataframe tbody tr th:only-of-type {\n",
       "        vertical-align: middle;\n",
       "    }\n",
       "\n",
       "    .dataframe tbody tr th {\n",
       "        vertical-align: top;\n",
       "    }\n",
       "\n",
       "    .dataframe thead th {\n",
       "        text-align: right;\n",
       "    }\n",
       "</style>\n",
       "<table border=\"1\" class=\"dataframe\">\n",
       "  <thead>\n",
       "    <tr style=\"text-align: right;\">\n",
       "      <th></th>\n",
       "      <th>Unnamed: 0</th>\n",
       "      <th>Name</th>\n",
       "      <th>Category</th>\n",
       "      <th>Followers</th>\n",
       "      <th>Audience Country</th>\n",
       "      <th>newFollowers</th>\n",
       "      <th>Engagement Rate</th>\n",
       "    </tr>\n",
       "  </thead>\n",
       "  <tbody>\n",
       "    <tr>\n",
       "      <th>0</th>\n",
       "      <td>1</td>\n",
       "      <td>cristiano</td>\n",
       "      <td>Sports with a ball</td>\n",
       "      <td>483.1M</td>\n",
       "      <td>India</td>\n",
       "      <td>483.1</td>\n",
       "      <td>1.159</td>\n",
       "    </tr>\n",
       "    <tr>\n",
       "      <th>1</th>\n",
       "      <td>2</td>\n",
       "      <td>kyliejenner</td>\n",
       "      <td>Fashion</td>\n",
       "      <td>370M</td>\n",
       "      <td>United States</td>\n",
       "      <td>370.0</td>\n",
       "      <td>1.189</td>\n",
       "    </tr>\n",
       "  </tbody>\n",
       "</table>\n",
       "</div>"
      ],
      "text/plain": [
       "   Unnamed: 0         Name            Category Followers Audience Country  \\\n",
       "0           1    cristiano  Sports with a ball    483.1M            India   \n",
       "1           2  kyliejenner             Fashion      370M    United States   \n",
       "\n",
       "   newFollowers  Engagement Rate  \n",
       "0         483.1            1.159  \n",
       "1         370.0            1.189  "
      ]
     },
     "execution_count": 108,
     "metadata": {},
     "output_type": "execute_result"
    }
   ],
   "source": [
    "df_i.head(2)"
   ]
  },
  {
   "cell_type": "code",
   "execution_count": 141,
   "id": "bab37754",
   "metadata": {},
   "outputs": [],
   "source": [
    "def for_mini_followers_instagram(coun,cat):\n",
    "    df1=df_i[df_i['Audience Country']==coun]\n",
    "    df1_mini=df1[df1['newFollowers']<66]\n",
    "    return df1_mini.sort_values(by='Engagement Rate',ascending=False).groupby('Category').get_group(cat).iloc[:,[1,3,-1]]"
   ]
  },
  {
   "cell_type": "code",
   "execution_count": 142,
   "id": "5b523920",
   "metadata": {
    "scrolled": true
   },
   "outputs": [
    {
     "data": {
      "text/html": [
       "<div>\n",
       "<style scoped>\n",
       "    .dataframe tbody tr th:only-of-type {\n",
       "        vertical-align: middle;\n",
       "    }\n",
       "\n",
       "    .dataframe tbody tr th {\n",
       "        vertical-align: top;\n",
       "    }\n",
       "\n",
       "    .dataframe thead th {\n",
       "        text-align: right;\n",
       "    }\n",
       "</style>\n",
       "<table border=\"1\" class=\"dataframe\">\n",
       "  <thead>\n",
       "    <tr style=\"text-align: right;\">\n",
       "      <th></th>\n",
       "      <th>Name</th>\n",
       "      <th>Followers</th>\n",
       "      <th>Engagement Rate</th>\n",
       "    </tr>\n",
       "  </thead>\n",
       "  <tbody>\n",
       "    <tr>\n",
       "      <th>15</th>\n",
       "      <td>jin</td>\n",
       "      <td>40M</td>\n",
       "      <td>22.250</td>\n",
       "    </tr>\n",
       "    <tr>\n",
       "      <th>383</th>\n",
       "      <td>hshq</td>\n",
       "      <td>6.7M</td>\n",
       "      <td>17.910</td>\n",
       "    </tr>\n",
       "    <tr>\n",
       "      <th>439</th>\n",
       "      <td>barbieferreira</td>\n",
       "      <td>6.2M</td>\n",
       "      <td>17.742</td>\n",
       "    </tr>\n",
       "    <tr>\n",
       "      <th>870</th>\n",
       "      <td>arcticmonkeys</td>\n",
       "      <td>4.1M</td>\n",
       "      <td>15.949</td>\n",
       "    </tr>\n",
       "    <tr>\n",
       "      <th>26</th>\n",
       "      <td>badbunnypr</td>\n",
       "      <td>43.1M</td>\n",
       "      <td>12.993</td>\n",
       "    </tr>\n",
       "    <tr>\n",
       "      <th>...</th>\n",
       "      <td>...</td>\n",
       "      <td>...</td>\n",
       "      <td>...</td>\n",
       "    </tr>\n",
       "    <tr>\n",
       "      <th>206</th>\n",
       "      <td>ladygaga</td>\n",
       "      <td>53.2M</td>\n",
       "      <td>0.581</td>\n",
       "    </tr>\n",
       "    <tr>\n",
       "      <th>349</th>\n",
       "      <td>teddysphotos</td>\n",
       "      <td>40.5M</td>\n",
       "      <td>0.523</td>\n",
       "    </tr>\n",
       "    <tr>\n",
       "      <th>520</th>\n",
       "      <td>nickjonas</td>\n",
       "      <td>33.2M</td>\n",
       "      <td>0.492</td>\n",
       "    </tr>\n",
       "    <tr>\n",
       "      <th>397</th>\n",
       "      <td>britneyspears</td>\n",
       "      <td>42.1M</td>\n",
       "      <td>0.433</td>\n",
       "    </tr>\n",
       "    <tr>\n",
       "      <th>246</th>\n",
       "      <td>justintimberlake</td>\n",
       "      <td>65.8M</td>\n",
       "      <td>0.322</td>\n",
       "    </tr>\n",
       "  </tbody>\n",
       "</table>\n",
       "<p>65 rows × 3 columns</p>\n",
       "</div>"
      ],
      "text/plain": [
       "                 Name Followers  Engagement Rate\n",
       "15                jin       40M           22.250\n",
       "383              hshq      6.7M           17.910\n",
       "439    barbieferreira      6.2M           17.742\n",
       "870     arcticmonkeys      4.1M           15.949\n",
       "26         badbunnypr     43.1M           12.993\n",
       "..                ...       ...              ...\n",
       "206          ladygaga     53.2M            0.581\n",
       "349      teddysphotos     40.5M            0.523\n",
       "520         nickjonas     33.2M            0.492\n",
       "397     britneyspears     42.1M            0.433\n",
       "246  justintimberlake     65.8M            0.322\n",
       "\n",
       "[65 rows x 3 columns]"
      ]
     },
     "execution_count": 142,
     "metadata": {},
     "output_type": "execute_result"
    }
   ],
   "source": [
    "for_mini_followers_instagram('United States','Music')"
   ]
  },
  {
   "cell_type": "code",
   "execution_count": 143,
   "id": "693124c5",
   "metadata": {},
   "outputs": [],
   "source": [
    "def for_mega_followers_instagram(coun,cat):\n",
    "    df1=df_i[df_i['Audience Country']==coun]\n",
    "    df1_mini=df1[df1['newFollowers']>66]\n",
    "    return df1_mini.sort_values(by='Engagement Rate',ascending=False).groupby('Category').get_group(cat).iloc[:,[1,3,-1]]"
   ]
  },
  {
   "cell_type": "code",
   "execution_count": 144,
   "id": "d279f515",
   "metadata": {},
   "outputs": [
    {
     "data": {
      "text/html": [
       "<div>\n",
       "<style scoped>\n",
       "    .dataframe tbody tr th:only-of-type {\n",
       "        vertical-align: middle;\n",
       "    }\n",
       "\n",
       "    .dataframe tbody tr th {\n",
       "        vertical-align: top;\n",
       "    }\n",
       "\n",
       "    .dataframe thead th {\n",
       "        text-align: right;\n",
       "    }\n",
       "</style>\n",
       "<table border=\"1\" class=\"dataframe\">\n",
       "  <thead>\n",
       "    <tr style=\"text-align: right;\">\n",
       "      <th></th>\n",
       "      <th>Name</th>\n",
       "      <th>Followers</th>\n",
       "      <th>Engagement Rate</th>\n",
       "    </tr>\n",
       "  </thead>\n",
       "  <tbody>\n",
       "    <tr>\n",
       "      <th>11</th>\n",
       "      <td>billieeilish</td>\n",
       "      <td>106.3M</td>\n",
       "      <td>4.704</td>\n",
       "    </tr>\n",
       "    <tr>\n",
       "      <th>40</th>\n",
       "      <td>dualipa</td>\n",
       "      <td>87M</td>\n",
       "      <td>1.609</td>\n",
       "    </tr>\n",
       "    <tr>\n",
       "      <th>22</th>\n",
       "      <td>iamcardib</td>\n",
       "      <td>140.8M</td>\n",
       "      <td>1.349</td>\n",
       "    </tr>\n",
       "    <tr>\n",
       "      <th>3</th>\n",
       "      <td>arianagrande</td>\n",
       "      <td>331.6M</td>\n",
       "      <td>1.206</td>\n",
       "    </tr>\n",
       "    <tr>\n",
       "      <th>34</th>\n",
       "      <td>champagnepapi</td>\n",
       "      <td>121.1M</td>\n",
       "      <td>1.156</td>\n",
       "    </tr>\n",
       "    <tr>\n",
       "      <th>10</th>\n",
       "      <td>beyonce</td>\n",
       "      <td>275.7M</td>\n",
       "      <td>0.798</td>\n",
       "    </tr>\n",
       "    <tr>\n",
       "      <th>6</th>\n",
       "      <td>selenagomez</td>\n",
       "      <td>347.6M</td>\n",
       "      <td>0.662</td>\n",
       "    </tr>\n",
       "    <tr>\n",
       "      <th>28</th>\n",
       "      <td>jlo</td>\n",
       "      <td>221.6M</td>\n",
       "      <td>0.451</td>\n",
       "    </tr>\n",
       "    <tr>\n",
       "      <th>75</th>\n",
       "      <td>ddlovato</td>\n",
       "      <td>139.5M</td>\n",
       "      <td>0.295</td>\n",
       "    </tr>\n",
       "    <tr>\n",
       "      <th>55</th>\n",
       "      <td>nickiminaj</td>\n",
       "      <td>200.9M</td>\n",
       "      <td>0.199</td>\n",
       "    </tr>\n",
       "    <tr>\n",
       "      <th>208</th>\n",
       "      <td>chrisbrownofficial</td>\n",
       "      <td>118.8M</td>\n",
       "      <td>0.116</td>\n",
       "    </tr>\n",
       "  </tbody>\n",
       "</table>\n",
       "</div>"
      ],
      "text/plain": [
       "                   Name Followers  Engagement Rate\n",
       "11         billieeilish    106.3M            4.704\n",
       "40              dualipa       87M            1.609\n",
       "22            iamcardib    140.8M            1.349\n",
       "3          arianagrande    331.6M            1.206\n",
       "34        champagnepapi    121.1M            1.156\n",
       "10              beyonce    275.7M            0.798\n",
       "6           selenagomez    347.6M            0.662\n",
       "28                  jlo    221.6M            0.451\n",
       "75             ddlovato    139.5M            0.295\n",
       "55           nickiminaj    200.9M            0.199\n",
       "208  chrisbrownofficial    118.8M            0.116"
      ]
     },
     "execution_count": 144,
     "metadata": {},
     "output_type": "execute_result"
    }
   ],
   "source": [
    "for_mega_followers_instagram('United States','Music')"
   ]
  },
  {
   "cell_type": "code",
   "execution_count": 124,
   "id": "500e7efa",
   "metadata": {},
   "outputs": [],
   "source": [
    "# category(df_i,'Sports with a ball')"
   ]
  },
  {
   "cell_type": "code",
   "execution_count": 145,
   "id": "26efd862",
   "metadata": {},
   "outputs": [
    {
     "data": {
      "text/html": [
       "<div>\n",
       "<style scoped>\n",
       "    .dataframe tbody tr th:only-of-type {\n",
       "        vertical-align: middle;\n",
       "    }\n",
       "\n",
       "    .dataframe tbody tr th {\n",
       "        vertical-align: top;\n",
       "    }\n",
       "\n",
       "    .dataframe thead th {\n",
       "        text-align: right;\n",
       "    }\n",
       "</style>\n",
       "<table border=\"1\" class=\"dataframe\">\n",
       "  <thead>\n",
       "    <tr style=\"text-align: right;\">\n",
       "      <th></th>\n",
       "      <th>Name</th>\n",
       "      <th>Followers</th>\n",
       "      <th>Engagement Rate</th>\n",
       "    </tr>\n",
       "  </thead>\n",
       "  <tbody>\n",
       "    <tr>\n",
       "      <th>527</th>\n",
       "      <td>klaythompson</td>\n",
       "      <td>13.5M</td>\n",
       "      <td>2.884</td>\n",
       "    </tr>\n",
       "    <tr>\n",
       "      <th>710</th>\n",
       "      <td>brfootball</td>\n",
       "      <td>12.6M</td>\n",
       "      <td>2.207</td>\n",
       "    </tr>\n",
       "    <tr>\n",
       "      <th>486</th>\n",
       "      <td>obj</td>\n",
       "      <td>16.5M</td>\n",
       "      <td>2.145</td>\n",
       "    </tr>\n",
       "    <tr>\n",
       "      <th>858</th>\n",
       "      <td>ab</td>\n",
       "      <td>11.3M</td>\n",
       "      <td>2.134</td>\n",
       "    </tr>\n",
       "    <tr>\n",
       "      <th>792</th>\n",
       "      <td>giannis_an34</td>\n",
       "      <td>13.5M</td>\n",
       "      <td>1.670</td>\n",
       "    </tr>\n",
       "    <tr>\n",
       "      <th>867</th>\n",
       "      <td>zo</td>\n",
       "      <td>14.7M</td>\n",
       "      <td>1.239</td>\n",
       "    </tr>\n",
       "    <tr>\n",
       "      <th>592</th>\n",
       "      <td>lakers</td>\n",
       "      <td>20.3M</td>\n",
       "      <td>1.073</td>\n",
       "    </tr>\n",
       "    <tr>\n",
       "      <th>787</th>\n",
       "      <td>kyrieirving</td>\n",
       "      <td>17.3M</td>\n",
       "      <td>1.023</td>\n",
       "    </tr>\n",
       "    <tr>\n",
       "      <th>676</th>\n",
       "      <td>bleacherreport</td>\n",
       "      <td>19.6M</td>\n",
       "      <td>0.961</td>\n",
       "    </tr>\n",
       "    <tr>\n",
       "      <th>347</th>\n",
       "      <td>houseofhighlights</td>\n",
       "      <td>36.1M</td>\n",
       "      <td>0.660</td>\n",
       "    </tr>\n",
       "    <tr>\n",
       "      <th>508</th>\n",
       "      <td>sportscenter</td>\n",
       "      <td>31.8M</td>\n",
       "      <td>0.555</td>\n",
       "    </tr>\n",
       "    <tr>\n",
       "      <th>831</th>\n",
       "      <td>espn</td>\n",
       "      <td>23.8M</td>\n",
       "      <td>0.501</td>\n",
       "    </tr>\n",
       "    <tr>\n",
       "      <th>348</th>\n",
       "      <td>stephencurry30</td>\n",
       "      <td>46.2M</td>\n",
       "      <td>0.401</td>\n",
       "    </tr>\n",
       "  </tbody>\n",
       "</table>\n",
       "</div>"
      ],
      "text/plain": [
       "                  Name Followers  Engagement Rate\n",
       "527       klaythompson     13.5M            2.884\n",
       "710         brfootball     12.6M            2.207\n",
       "486                obj     16.5M            2.145\n",
       "858                 ab     11.3M            2.134\n",
       "792       giannis_an34     13.5M            1.670\n",
       "867                 zo     14.7M            1.239\n",
       "592             lakers     20.3M            1.073\n",
       "787        kyrieirving     17.3M            1.023\n",
       "676     bleacherreport     19.6M            0.961\n",
       "347  houseofhighlights     36.1M            0.660\n",
       "508       sportscenter     31.8M            0.555\n",
       "831               espn     23.8M            0.501\n",
       "348     stephencurry30     46.2M            0.401"
      ]
     },
     "execution_count": 145,
     "metadata": {},
     "output_type": "execute_result"
    }
   ],
   "source": [
    "for_mini_followers_instagram('United States','Sports with a ball')"
   ]
  },
  {
   "cell_type": "code",
   "execution_count": 146,
   "id": "af7bcc99",
   "metadata": {},
   "outputs": [
    {
     "data": {
      "text/html": [
       "<div>\n",
       "<style scoped>\n",
       "    .dataframe tbody tr th:only-of-type {\n",
       "        vertical-align: middle;\n",
       "    }\n",
       "\n",
       "    .dataframe tbody tr th {\n",
       "        vertical-align: top;\n",
       "    }\n",
       "\n",
       "    .dataframe thead th {\n",
       "        text-align: right;\n",
       "    }\n",
       "</style>\n",
       "<table border=\"1\" class=\"dataframe\">\n",
       "  <thead>\n",
       "    <tr style=\"text-align: right;\">\n",
       "      <th></th>\n",
       "      <th>Name</th>\n",
       "      <th>Followers</th>\n",
       "      <th>Engagement Rate</th>\n",
       "    </tr>\n",
       "  </thead>\n",
       "  <tbody>\n",
       "    <tr>\n",
       "      <th>36</th>\n",
       "      <td>kingjames</td>\n",
       "      <td>133M</td>\n",
       "      <td>0.827</td>\n",
       "    </tr>\n",
       "    <tr>\n",
       "      <th>418</th>\n",
       "      <td>nba</td>\n",
       "      <td>70.9M</td>\n",
       "      <td>0.142</td>\n",
       "    </tr>\n",
       "  </tbody>\n",
       "</table>\n",
       "</div>"
      ],
      "text/plain": [
       "          Name Followers  Engagement Rate\n",
       "36   kingjames      133M            0.827\n",
       "418        nba     70.9M            0.142"
      ]
     },
     "execution_count": 146,
     "metadata": {},
     "output_type": "execute_result"
    }
   ],
   "source": [
    "for_mega_followers_instagram('United States','Sports with a ball')"
   ]
  },
  {
   "cell_type": "code",
   "execution_count": 147,
   "id": "9191e196",
   "metadata": {},
   "outputs": [
    {
     "data": {
      "text/html": [
       "<div>\n",
       "<style scoped>\n",
       "    .dataframe tbody tr th:only-of-type {\n",
       "        vertical-align: middle;\n",
       "    }\n",
       "\n",
       "    .dataframe tbody tr th {\n",
       "        vertical-align: top;\n",
       "    }\n",
       "\n",
       "    .dataframe thead th {\n",
       "        text-align: right;\n",
       "    }\n",
       "</style>\n",
       "<table border=\"1\" class=\"dataframe\">\n",
       "  <thead>\n",
       "    <tr style=\"text-align: right;\">\n",
       "      <th></th>\n",
       "      <th>Unnamed: 0</th>\n",
       "      <th>Youtube channel</th>\n",
       "      <th>youtuber name</th>\n",
       "      <th>Category</th>\n",
       "      <th>Subscribers</th>\n",
       "      <th>Country</th>\n",
       "      <th>\\nViews (Avg.)</th>\n",
       "      <th>Likes (Avg.)</th>\n",
       "      <th>Comments (Avg.)</th>\n",
       "      <th>Category-2</th>\n",
       "    </tr>\n",
       "  </thead>\n",
       "  <tbody>\n",
       "    <tr>\n",
       "      <th>0</th>\n",
       "      <td>1</td>\n",
       "      <td>tseries</td>\n",
       "      <td>T-Series</td>\n",
       "      <td>Music &amp; Dance</td>\n",
       "      <td>229.5M</td>\n",
       "      <td>India</td>\n",
       "      <td>103.8K</td>\n",
       "      <td>2.8K</td>\n",
       "      <td>158</td>\n",
       "      <td>NaN</td>\n",
       "    </tr>\n",
       "    <tr>\n",
       "      <th>1</th>\n",
       "      <td>2</td>\n",
       "      <td>checkgate</td>\n",
       "      <td>Cocomelon - Nursery Rhymes</td>\n",
       "      <td>Education</td>\n",
       "      <td>146.6M</td>\n",
       "      <td>NaN</td>\n",
       "      <td>9.5M</td>\n",
       "      <td>48.3K</td>\n",
       "      <td>0</td>\n",
       "      <td>NaN</td>\n",
       "    </tr>\n",
       "    <tr>\n",
       "      <th>2</th>\n",
       "      <td>3</td>\n",
       "      <td>PewDiePie</td>\n",
       "      <td>PewDiePie</td>\n",
       "      <td>Animation</td>\n",
       "      <td>111.6M</td>\n",
       "      <td>United States</td>\n",
       "      <td>1.4M</td>\n",
       "      <td>110.7K</td>\n",
       "      <td>7.8K</td>\n",
       "      <td>NaN</td>\n",
       "    </tr>\n",
       "  </tbody>\n",
       "</table>\n",
       "</div>"
      ],
      "text/plain": [
       "   Unnamed: 0 Youtube channel               youtuber name       Category  \\\n",
       "0           1         tseries                    T-Series  Music & Dance   \n",
       "1           2       checkgate  Cocomelon - Nursery Rhymes      Education   \n",
       "2           3       PewDiePie                   PewDiePie      Animation   \n",
       "\n",
       "  Subscribers        Country \\nViews (Avg.) Likes (Avg.) Comments (Avg.)  \\\n",
       "0      229.5M          India         103.8K         2.8K             158   \n",
       "1      146.6M            NaN           9.5M        48.3K               0   \n",
       "2      111.6M  United States           1.4M       110.7K            7.8K   \n",
       "\n",
       "  Category-2  \n",
       "0        NaN  \n",
       "1        NaN  \n",
       "2        NaN  "
      ]
     },
     "execution_count": 147,
     "metadata": {},
     "output_type": "execute_result"
    }
   ],
   "source": [
    "df_y.head(3)"
   ]
  },
  {
   "cell_type": "code",
   "execution_count": 148,
   "id": "6f4f3f45",
   "metadata": {},
   "outputs": [
    {
     "data": {
      "text/plain": [
       "Unnamed: 0           0\n",
       "Youtube channel      0\n",
       "youtuber name        0\n",
       "Category           293\n",
       "Subscribers          0\n",
       "Country            171\n",
       "\\nViews (Avg.)       0\n",
       "Likes (Avg.)         0\n",
       "Comments (Avg.)      0\n",
       "Category-2         727\n",
       "dtype: int64"
      ]
     },
     "execution_count": 148,
     "metadata": {},
     "output_type": "execute_result"
    }
   ],
   "source": [
    "df_y.isnull().sum()"
   ]
  },
  {
   "cell_type": "code",
   "execution_count": 149,
   "id": "e94b044b",
   "metadata": {},
   "outputs": [
    {
     "data": {
      "text/plain": [
       "Unnamed: 0           0\n",
       "Youtube channel      0\n",
       "youtuber name        0\n",
       "Category           293\n",
       "Subscribers          0\n",
       "Country            171\n",
       "\\nViews (Avg.)       0\n",
       "Likes (Avg.)         0\n",
       "Comments (Avg.)      0\n",
       "Category-2         727\n",
       "dtype: int64"
      ]
     },
     "execution_count": 149,
     "metadata": {},
     "output_type": "execute_result"
    }
   ],
   "source": [
    "df_y.dropna(axis=0,how='any',subset=['Likes (Avg.)','Comments (Avg.)']).isnull().sum()"
   ]
  },
  {
   "cell_type": "code",
   "execution_count": 156,
   "id": "3aeabfbc",
   "metadata": {},
   "outputs": [],
   "source": [
    "df_y.dropna(axis=0,how='any',subset=['Likes (Avg.)','Comments (Avg.)'],inplace=True)"
   ]
  },
  {
   "cell_type": "code",
   "execution_count": 172,
   "id": "a87385fe",
   "metadata": {},
   "outputs": [],
   "source": [
    "import re\n",
    "def convert(x):\n",
    "    return re.findall('\\d+\\.?\\d*',x)"
   ]
  },
  {
   "cell_type": "code",
   "execution_count": 208,
   "id": "ca308753",
   "metadata": {},
   "outputs": [],
   "source": [
    "def change(df,list1):\n",
    "    for y in list1:\n",
    "        df['new'+y]=df[y].apply(convert)\n",
    "        df['new'+y]=df['new'+y].apply(lambda x: \"\".join(x))\n",
    "        df['new'+y]=pd.to_numeric(df['new'+y])\n",
    "        df['new'+y]=np.where(['M' in j for j in df[y]],df['new'+y]*1000000,\n",
    "                             np.where(['K' in j1 for j1 in df[y]],df['new'+y]*1000,df['new'+y]))\n",
    "    return df"
   ]
  },
  {
   "cell_type": "code",
   "execution_count": 209,
   "id": "5bf29cfe",
   "metadata": {},
   "outputs": [],
   "source": [
    "ly=['Subscribers','Likes (Avg.)','Comments (Avg.)', '\\nViews (Avg.)']"
   ]
  },
  {
   "cell_type": "code",
   "execution_count": 210,
   "id": "f133da9f",
   "metadata": {},
   "outputs": [
    {
     "data": {
      "text/html": [
       "<div>\n",
       "<style scoped>\n",
       "    .dataframe tbody tr th:only-of-type {\n",
       "        vertical-align: middle;\n",
       "    }\n",
       "\n",
       "    .dataframe tbody tr th {\n",
       "        vertical-align: top;\n",
       "    }\n",
       "\n",
       "    .dataframe thead th {\n",
       "        text-align: right;\n",
       "    }\n",
       "</style>\n",
       "<table border=\"1\" class=\"dataframe\">\n",
       "  <thead>\n",
       "    <tr style=\"text-align: right;\">\n",
       "      <th></th>\n",
       "      <th>Unnamed: 0</th>\n",
       "      <th>Youtube channel</th>\n",
       "      <th>youtuber name</th>\n",
       "      <th>Category</th>\n",
       "      <th>Subscribers</th>\n",
       "      <th>Country</th>\n",
       "      <th>\\nViews (Avg.)</th>\n",
       "      <th>Likes (Avg.)</th>\n",
       "      <th>Comments (Avg.)</th>\n",
       "      <th>Category-2</th>\n",
       "      <th>newSubscribers</th>\n",
       "      <th>newLikes (Avg.)</th>\n",
       "      <th>newComments (Avg.)</th>\n",
       "      <th>new\\nViews (Avg.)</th>\n",
       "    </tr>\n",
       "  </thead>\n",
       "  <tbody>\n",
       "    <tr>\n",
       "      <th>0</th>\n",
       "      <td>1</td>\n",
       "      <td>tseries</td>\n",
       "      <td>T-Series</td>\n",
       "      <td>Music &amp; Dance</td>\n",
       "      <td>229.5M</td>\n",
       "      <td>India</td>\n",
       "      <td>103.8K</td>\n",
       "      <td>2.8K</td>\n",
       "      <td>158</td>\n",
       "      <td>NaN</td>\n",
       "      <td>229500000.0</td>\n",
       "      <td>2800.0</td>\n",
       "      <td>158.0</td>\n",
       "      <td>103800.0</td>\n",
       "    </tr>\n",
       "    <tr>\n",
       "      <th>1</th>\n",
       "      <td>2</td>\n",
       "      <td>checkgate</td>\n",
       "      <td>Cocomelon - Nursery Rhymes</td>\n",
       "      <td>Education</td>\n",
       "      <td>146.6M</td>\n",
       "      <td>NaN</td>\n",
       "      <td>9.5M</td>\n",
       "      <td>48.3K</td>\n",
       "      <td>0</td>\n",
       "      <td>NaN</td>\n",
       "      <td>146600000.0</td>\n",
       "      <td>48300.0</td>\n",
       "      <td>0.0</td>\n",
       "      <td>9500000.0</td>\n",
       "    </tr>\n",
       "    <tr>\n",
       "      <th>2</th>\n",
       "      <td>3</td>\n",
       "      <td>PewDiePie</td>\n",
       "      <td>PewDiePie</td>\n",
       "      <td>Animation</td>\n",
       "      <td>111.6M</td>\n",
       "      <td>United States</td>\n",
       "      <td>1.4M</td>\n",
       "      <td>110.7K</td>\n",
       "      <td>7.8K</td>\n",
       "      <td>NaN</td>\n",
       "      <td>111600000.0</td>\n",
       "      <td>110700.0</td>\n",
       "      <td>7800.0</td>\n",
       "      <td>1400000.0</td>\n",
       "    </tr>\n",
       "    <tr>\n",
       "      <th>3</th>\n",
       "      <td>4</td>\n",
       "      <td>MrBeast6000</td>\n",
       "      <td>MrBeast</td>\n",
       "      <td>Video games</td>\n",
       "      <td>109.1M</td>\n",
       "      <td>United States</td>\n",
       "      <td>38.4M</td>\n",
       "      <td>3.1M</td>\n",
       "      <td>56.7K</td>\n",
       "      <td>Humor</td>\n",
       "      <td>109100000.0</td>\n",
       "      <td>3100000.0</td>\n",
       "      <td>56700.0</td>\n",
       "      <td>38400000.0</td>\n",
       "    </tr>\n",
       "    <tr>\n",
       "      <th>4</th>\n",
       "      <td>5</td>\n",
       "      <td>✿ Kids Diana Show</td>\n",
       "      <td>✿ Kids Diana Show</td>\n",
       "      <td>Animation</td>\n",
       "      <td>102.5M</td>\n",
       "      <td>NaN</td>\n",
       "      <td>2.4M</td>\n",
       "      <td>15.7K</td>\n",
       "      <td>0</td>\n",
       "      <td>Toys</td>\n",
       "      <td>102500000.0</td>\n",
       "      <td>15700.0</td>\n",
       "      <td>0.0</td>\n",
       "      <td>2400000.0</td>\n",
       "    </tr>\n",
       "    <tr>\n",
       "      <th>...</th>\n",
       "      <td>...</td>\n",
       "      <td>...</td>\n",
       "      <td>...</td>\n",
       "      <td>...</td>\n",
       "      <td>...</td>\n",
       "      <td>...</td>\n",
       "      <td>...</td>\n",
       "      <td>...</td>\n",
       "      <td>...</td>\n",
       "      <td>...</td>\n",
       "      <td>...</td>\n",
       "      <td>...</td>\n",
       "      <td>...</td>\n",
       "      <td>...</td>\n",
       "    </tr>\n",
       "    <tr>\n",
       "      <th>995</th>\n",
       "      <td>996</td>\n",
       "      <td>RUOK</td>\n",
       "      <td>RUOK</td>\n",
       "      <td>NaN</td>\n",
       "      <td>10.1M</td>\n",
       "      <td>Brazil</td>\n",
       "      <td>215.4K</td>\n",
       "      <td>25.2K</td>\n",
       "      <td>1.3K</td>\n",
       "      <td>NaN</td>\n",
       "      <td>10100000.0</td>\n",
       "      <td>25200.0</td>\n",
       "      <td>1300.0</td>\n",
       "      <td>215400.0</td>\n",
       "    </tr>\n",
       "    <tr>\n",
       "      <th>996</th>\n",
       "      <td>997</td>\n",
       "      <td>FoxNewsChannel</td>\n",
       "      <td>Fox News</td>\n",
       "      <td>News &amp; Politics</td>\n",
       "      <td>10.1M</td>\n",
       "      <td>United States</td>\n",
       "      <td>98.4K</td>\n",
       "      <td>4K</td>\n",
       "      <td>884</td>\n",
       "      <td>NaN</td>\n",
       "      <td>10100000.0</td>\n",
       "      <td>4000.0</td>\n",
       "      <td>884.0</td>\n",
       "      <td>98400.0</td>\n",
       "    </tr>\n",
       "    <tr>\n",
       "      <th>997</th>\n",
       "      <td>998</td>\n",
       "      <td>SULE PRODUCTIONS</td>\n",
       "      <td>SULE PRODUCTIONS</td>\n",
       "      <td>NaN</td>\n",
       "      <td>10.1M</td>\n",
       "      <td>Indonesia</td>\n",
       "      <td>218.3K</td>\n",
       "      <td>4.5K</td>\n",
       "      <td>306</td>\n",
       "      <td>NaN</td>\n",
       "      <td>10100000.0</td>\n",
       "      <td>4500.0</td>\n",
       "      <td>306.0</td>\n",
       "      <td>218300.0</td>\n",
       "    </tr>\n",
       "    <tr>\n",
       "      <th>998</th>\n",
       "      <td>999</td>\n",
       "      <td>MBCkpop</td>\n",
       "      <td>MBCkpop</td>\n",
       "      <td>Music &amp; Dance</td>\n",
       "      <td>10.1M</td>\n",
       "      <td>Malaysia</td>\n",
       "      <td>19.7K</td>\n",
       "      <td>2.6K</td>\n",
       "      <td>92</td>\n",
       "      <td>NaN</td>\n",
       "      <td>10100000.0</td>\n",
       "      <td>2600.0</td>\n",
       "      <td>92.0</td>\n",
       "      <td>19700.0</td>\n",
       "    </tr>\n",
       "    <tr>\n",
       "      <th>999</th>\n",
       "      <td>1000</td>\n",
       "      <td>Dynamo Gaming</td>\n",
       "      <td>Dynamo Gaming</td>\n",
       "      <td>NaN</td>\n",
       "      <td>10.1M</td>\n",
       "      <td>India</td>\n",
       "      <td>139.6K</td>\n",
       "      <td>15.4K</td>\n",
       "      <td>125</td>\n",
       "      <td>NaN</td>\n",
       "      <td>10100000.0</td>\n",
       "      <td>15400.0</td>\n",
       "      <td>125.0</td>\n",
       "      <td>139600.0</td>\n",
       "    </tr>\n",
       "  </tbody>\n",
       "</table>\n",
       "<p>998 rows × 14 columns</p>\n",
       "</div>"
      ],
      "text/plain": [
       "     Unnamed: 0    Youtube channel               youtuber name  \\\n",
       "0             1            tseries                    T-Series   \n",
       "1             2          checkgate  Cocomelon - Nursery Rhymes   \n",
       "2             3          PewDiePie                   PewDiePie   \n",
       "3             4        MrBeast6000                     MrBeast   \n",
       "4             5  ✿ Kids Diana Show           ✿ Kids Diana Show   \n",
       "..          ...                ...                         ...   \n",
       "995         996               RUOK                        RUOK   \n",
       "996         997     FoxNewsChannel                    Fox News   \n",
       "997         998   SULE PRODUCTIONS            SULE PRODUCTIONS   \n",
       "998         999            MBCkpop                     MBCkpop   \n",
       "999        1000      Dynamo Gaming               Dynamo Gaming   \n",
       "\n",
       "            Category Subscribers        Country \\nViews (Avg.) Likes (Avg.)  \\\n",
       "0      Music & Dance      229.5M          India         103.8K         2.8K   \n",
       "1          Education      146.6M            NaN           9.5M        48.3K   \n",
       "2          Animation      111.6M  United States           1.4M       110.7K   \n",
       "3        Video games      109.1M  United States          38.4M         3.1M   \n",
       "4          Animation      102.5M            NaN           2.4M        15.7K   \n",
       "..               ...         ...            ...            ...          ...   \n",
       "995              NaN       10.1M         Brazil         215.4K        25.2K   \n",
       "996  News & Politics       10.1M  United States          98.4K           4K   \n",
       "997              NaN       10.1M      Indonesia         218.3K         4.5K   \n",
       "998    Music & Dance       10.1M       Malaysia          19.7K         2.6K   \n",
       "999              NaN       10.1M          India         139.6K        15.4K   \n",
       "\n",
       "    Comments (Avg.) Category-2  newSubscribers  newLikes (Avg.)  \\\n",
       "0               158        NaN     229500000.0           2800.0   \n",
       "1                 0        NaN     146600000.0          48300.0   \n",
       "2              7.8K        NaN     111600000.0         110700.0   \n",
       "3             56.7K      Humor     109100000.0        3100000.0   \n",
       "4                 0       Toys     102500000.0          15700.0   \n",
       "..              ...        ...             ...              ...   \n",
       "995            1.3K        NaN      10100000.0          25200.0   \n",
       "996             884        NaN      10100000.0           4000.0   \n",
       "997             306        NaN      10100000.0           4500.0   \n",
       "998              92        NaN      10100000.0           2600.0   \n",
       "999             125        NaN      10100000.0          15400.0   \n",
       "\n",
       "     newComments (Avg.)  new\\nViews (Avg.)  \n",
       "0                 158.0           103800.0  \n",
       "1                   0.0          9500000.0  \n",
       "2                7800.0          1400000.0  \n",
       "3               56700.0         38400000.0  \n",
       "4                   0.0          2400000.0  \n",
       "..                  ...                ...  \n",
       "995              1300.0           215400.0  \n",
       "996               884.0            98400.0  \n",
       "997               306.0           218300.0  \n",
       "998                92.0            19700.0  \n",
       "999               125.0           139600.0  \n",
       "\n",
       "[998 rows x 14 columns]"
      ]
     },
     "execution_count": 210,
     "metadata": {},
     "output_type": "execute_result"
    }
   ],
   "source": [
    "change(df_y,ly)"
   ]
  },
  {
   "cell_type": "code",
   "execution_count": 211,
   "id": "1826119f",
   "metadata": {},
   "outputs": [],
   "source": [
    "#df_y[df_y['Audience Country']=='Spain']['Category'].value_counts()"
   ]
  },
  {
   "cell_type": "code",
   "execution_count": 212,
   "id": "f94044f1",
   "metadata": {},
   "outputs": [],
   "source": [
    "#df_y[df_y['Audience Country']=='Brazil'].groupby('Category').get_group('Animation')"
   ]
  },
  {
   "cell_type": "code",
   "execution_count": 214,
   "id": "b814a0a9",
   "metadata": {},
   "outputs": [],
   "source": [
    "df_y['Engagement rate']=round(((df_y['newComments (Avg.)']+df_y['newLikes (Avg.)']+df_y['new\\nViews (Avg.)'])/df_y['newSubscribers'])*100,3)"
   ]
  },
  {
   "cell_type": "code",
   "execution_count": 215,
   "id": "2a236f93",
   "metadata": {},
   "outputs": [
    {
     "data": {
      "text/html": [
       "<div>\n",
       "<style scoped>\n",
       "    .dataframe tbody tr th:only-of-type {\n",
       "        vertical-align: middle;\n",
       "    }\n",
       "\n",
       "    .dataframe tbody tr th {\n",
       "        vertical-align: top;\n",
       "    }\n",
       "\n",
       "    .dataframe thead th {\n",
       "        text-align: right;\n",
       "    }\n",
       "</style>\n",
       "<table border=\"1\" class=\"dataframe\">\n",
       "  <thead>\n",
       "    <tr style=\"text-align: right;\">\n",
       "      <th></th>\n",
       "      <th>Unnamed: 0</th>\n",
       "      <th>Youtube channel</th>\n",
       "      <th>youtuber name</th>\n",
       "      <th>Category</th>\n",
       "      <th>Subscribers</th>\n",
       "      <th>Country</th>\n",
       "      <th>\\nViews (Avg.)</th>\n",
       "      <th>Likes (Avg.)</th>\n",
       "      <th>Comments (Avg.)</th>\n",
       "      <th>Category-2</th>\n",
       "      <th>newSubscribers</th>\n",
       "      <th>newLikes (Avg.)</th>\n",
       "      <th>newComments (Avg.)</th>\n",
       "      <th>new\\nViews (Avg.)</th>\n",
       "      <th>Engagement rate</th>\n",
       "    </tr>\n",
       "  </thead>\n",
       "  <tbody>\n",
       "    <tr>\n",
       "      <th>0</th>\n",
       "      <td>1</td>\n",
       "      <td>tseries</td>\n",
       "      <td>T-Series</td>\n",
       "      <td>Music &amp; Dance</td>\n",
       "      <td>229.5M</td>\n",
       "      <td>India</td>\n",
       "      <td>103.8K</td>\n",
       "      <td>2.8K</td>\n",
       "      <td>158</td>\n",
       "      <td>NaN</td>\n",
       "      <td>229500000.0</td>\n",
       "      <td>2800.0</td>\n",
       "      <td>158.0</td>\n",
       "      <td>103800.0</td>\n",
       "      <td>0.047</td>\n",
       "    </tr>\n",
       "    <tr>\n",
       "      <th>1</th>\n",
       "      <td>2</td>\n",
       "      <td>checkgate</td>\n",
       "      <td>Cocomelon - Nursery Rhymes</td>\n",
       "      <td>Education</td>\n",
       "      <td>146.6M</td>\n",
       "      <td>NaN</td>\n",
       "      <td>9.5M</td>\n",
       "      <td>48.3K</td>\n",
       "      <td>0</td>\n",
       "      <td>NaN</td>\n",
       "      <td>146600000.0</td>\n",
       "      <td>48300.0</td>\n",
       "      <td>0.0</td>\n",
       "      <td>9500000.0</td>\n",
       "      <td>6.513</td>\n",
       "    </tr>\n",
       "  </tbody>\n",
       "</table>\n",
       "</div>"
      ],
      "text/plain": [
       "   Unnamed: 0 Youtube channel               youtuber name       Category  \\\n",
       "0           1         tseries                    T-Series  Music & Dance   \n",
       "1           2       checkgate  Cocomelon - Nursery Rhymes      Education   \n",
       "\n",
       "  Subscribers Country \\nViews (Avg.) Likes (Avg.) Comments (Avg.) Category-2  \\\n",
       "0      229.5M   India         103.8K         2.8K             158        NaN   \n",
       "1      146.6M     NaN           9.5M        48.3K               0        NaN   \n",
       "\n",
       "   newSubscribers  newLikes (Avg.)  newComments (Avg.)  new\\nViews (Avg.)  \\\n",
       "0     229500000.0           2800.0               158.0           103800.0   \n",
       "1     146600000.0          48300.0                 0.0          9500000.0   \n",
       "\n",
       "   Engagement rate  \n",
       "0            0.047  \n",
       "1            6.513  "
      ]
     },
     "execution_count": 215,
     "metadata": {},
     "output_type": "execute_result"
    }
   ],
   "source": [
    "df_y.head(2)"
   ]
  },
  {
   "cell_type": "code",
   "execution_count": 216,
   "id": "8af0625a",
   "metadata": {},
   "outputs": [
    {
     "data": {
      "text/plain": [
       "Index(['Unnamed: 0', 'Youtube channel', 'youtuber name', 'Category',\n",
       "       'Subscribers', 'Country', '\\nViews (Avg.)', 'Likes (Avg.)',\n",
       "       'Comments (Avg.)', 'Category-2', 'newSubscribers', 'newLikes (Avg.)',\n",
       "       'newComments (Avg.)', 'new\\nViews (Avg.)', 'Engagement rate'],\n",
       "      dtype='object')"
      ]
     },
     "execution_count": 216,
     "metadata": {},
     "output_type": "execute_result"
    }
   ],
   "source": [
    "df_y.columns"
   ]
  },
  {
   "cell_type": "code",
   "execution_count": 218,
   "id": "2f00f889",
   "metadata": {},
   "outputs": [],
   "source": [
    "# for convenience\n",
    "df_y['newSubscribers']=df_y['newSubscribers']/1000000"
   ]
  },
  {
   "cell_type": "code",
   "execution_count": 219,
   "id": "8c8f5c23",
   "metadata": {},
   "outputs": [],
   "source": [
    "df_y.drop(labels=['\\nViews (Avg.)', 'Likes (Avg.)', 'Comments (Avg.)','new\\nViews (Avg.)', 'newLikes (Avg.)', 'newComments (Avg.)',\n",
    "       ],axis=1,inplace=True)"
   ]
  },
  {
   "cell_type": "code",
   "execution_count": 220,
   "id": "e883f0a4",
   "metadata": {},
   "outputs": [
    {
     "data": {
      "text/plain": [
       "count    998.000000\n",
       "mean      19.036774\n",
       "std       14.478041\n",
       "min       10.100000\n",
       "25%       11.800000\n",
       "50%       14.600000\n",
       "75%       20.300000\n",
       "max      229.500000\n",
       "Name: newSubscribers, dtype: float64"
      ]
     },
     "execution_count": 220,
     "metadata": {},
     "output_type": "execute_result"
    }
   ],
   "source": [
    "df_y['newSubscribers'].describe()"
   ]
  },
  {
   "cell_type": "code",
   "execution_count": 222,
   "id": "f6b45eea",
   "metadata": {},
   "outputs": [
    {
     "data": {
      "text/plain": [
       "31.2"
      ]
     },
     "execution_count": 222,
     "metadata": {},
     "output_type": "execute_result"
    }
   ],
   "source": [
    "df_y['newSubscribers'].quantile(0.90)"
   ]
  },
  {
   "cell_type": "code",
   "execution_count": 223,
   "id": "63e3ed86",
   "metadata": {},
   "outputs": [
    {
     "data": {
      "text/html": [
       "<div>\n",
       "<style scoped>\n",
       "    .dataframe tbody tr th:only-of-type {\n",
       "        vertical-align: middle;\n",
       "    }\n",
       "\n",
       "    .dataframe tbody tr th {\n",
       "        vertical-align: top;\n",
       "    }\n",
       "\n",
       "    .dataframe thead th {\n",
       "        text-align: right;\n",
       "    }\n",
       "</style>\n",
       "<table border=\"1\" class=\"dataframe\">\n",
       "  <thead>\n",
       "    <tr style=\"text-align: right;\">\n",
       "      <th></th>\n",
       "      <th>Unnamed: 0</th>\n",
       "      <th>Youtube channel</th>\n",
       "      <th>youtuber name</th>\n",
       "      <th>Category</th>\n",
       "      <th>Subscribers</th>\n",
       "      <th>Country</th>\n",
       "      <th>Category-2</th>\n",
       "      <th>newSubscribers</th>\n",
       "      <th>Engagement rate</th>\n",
       "    </tr>\n",
       "  </thead>\n",
       "  <tbody>\n",
       "    <tr>\n",
       "      <th>0</th>\n",
       "      <td>1</td>\n",
       "      <td>tseries</td>\n",
       "      <td>T-Series</td>\n",
       "      <td>Music &amp; Dance</td>\n",
       "      <td>229.5M</td>\n",
       "      <td>India</td>\n",
       "      <td>NaN</td>\n",
       "      <td>229.5</td>\n",
       "      <td>0.047</td>\n",
       "    </tr>\n",
       "  </tbody>\n",
       "</table>\n",
       "</div>"
      ],
      "text/plain": [
       "   Unnamed: 0 Youtube channel youtuber name       Category Subscribers  \\\n",
       "0           1         tseries      T-Series  Music & Dance      229.5M   \n",
       "\n",
       "  Country Category-2  newSubscribers  Engagement rate  \n",
       "0   India        NaN           229.5            0.047  "
      ]
     },
     "execution_count": 223,
     "metadata": {},
     "output_type": "execute_result"
    }
   ],
   "source": [
    "df_y.head(1)"
   ]
  },
  {
   "cell_type": "code",
   "execution_count": 231,
   "id": "83bbb36f",
   "metadata": {},
   "outputs": [],
   "source": [
    "def for_mini_subscribers_youtube(coun,cat):\n",
    "    df1=df_y[df_y['Country']==coun]\n",
    "    df1_mini=df1[df1['newSubscribers']<=30]\n",
    "    return df1_mini.sort_values(by='Engagement rate',ascending=False).groupby('Category').get_group(cat).iloc[:,[1,3,-1]]\n",
    "    "
   ]
  },
  {
   "cell_type": "code",
   "execution_count": 232,
   "id": "c03d566f",
   "metadata": {},
   "outputs": [],
   "source": [
    "# df_y.groupby('Category')['Audience Country'].first()"
   ]
  },
  {
   "cell_type": "code",
   "execution_count": 233,
   "id": "ee679120",
   "metadata": {},
   "outputs": [
    {
     "data": {
      "text/html": [
       "<div>\n",
       "<style scoped>\n",
       "    .dataframe tbody tr th:only-of-type {\n",
       "        vertical-align: middle;\n",
       "    }\n",
       "\n",
       "    .dataframe tbody tr th {\n",
       "        vertical-align: top;\n",
       "    }\n",
       "\n",
       "    .dataframe thead th {\n",
       "        text-align: right;\n",
       "    }\n",
       "</style>\n",
       "<table border=\"1\" class=\"dataframe\">\n",
       "  <thead>\n",
       "    <tr style=\"text-align: right;\">\n",
       "      <th></th>\n",
       "      <th>Youtube channel</th>\n",
       "      <th>Category</th>\n",
       "      <th>Engagement rate</th>\n",
       "    </tr>\n",
       "  </thead>\n",
       "  <tbody>\n",
       "    <tr>\n",
       "      <th>173</th>\n",
       "      <td>ChrisBrownTV</td>\n",
       "      <td>Music &amp; Dance</td>\n",
       "      <td>88.006</td>\n",
       "    </tr>\n",
       "    <tr>\n",
       "      <th>580</th>\n",
       "      <td>jordanmatter</td>\n",
       "      <td>Music &amp; Dance</td>\n",
       "      <td>36.681</td>\n",
       "    </tr>\n",
       "    <tr>\n",
       "      <th>139</th>\n",
       "      <td>DrakeOfficial</td>\n",
       "      <td>Music &amp; Dance</td>\n",
       "      <td>25.424</td>\n",
       "    </tr>\n",
       "    <tr>\n",
       "      <th>317</th>\n",
       "      <td>farrukotv</td>\n",
       "      <td>Music &amp; Dance</td>\n",
       "      <td>22.897</td>\n",
       "    </tr>\n",
       "    <tr>\n",
       "      <th>932</th>\n",
       "      <td>Juice WRLD</td>\n",
       "      <td>Music &amp; Dance</td>\n",
       "      <td>21.453</td>\n",
       "    </tr>\n",
       "    <tr>\n",
       "      <th>...</th>\n",
       "      <td>...</td>\n",
       "      <td>...</td>\n",
       "      <td>...</td>\n",
       "    </tr>\n",
       "    <tr>\n",
       "      <th>413</th>\n",
       "      <td>DopeLyrics</td>\n",
       "      <td>Music &amp; Dance</td>\n",
       "      <td>0.068</td>\n",
       "    </tr>\n",
       "    <tr>\n",
       "      <th>121</th>\n",
       "      <td>UltraRecords</td>\n",
       "      <td>Music &amp; Dance</td>\n",
       "      <td>0.065</td>\n",
       "    </tr>\n",
       "    <tr>\n",
       "      <th>924</th>\n",
       "      <td>CJENMMUSIC</td>\n",
       "      <td>Music &amp; Dance</td>\n",
       "      <td>0.059</td>\n",
       "    </tr>\n",
       "    <tr>\n",
       "      <th>592</th>\n",
       "      <td>AtlanticVideos</td>\n",
       "      <td>Music &amp; Dance</td>\n",
       "      <td>0.059</td>\n",
       "    </tr>\n",
       "    <tr>\n",
       "      <th>616</th>\n",
       "      <td>CrazyFrogVEVO</td>\n",
       "      <td>Music &amp; Dance</td>\n",
       "      <td>0.000</td>\n",
       "    </tr>\n",
       "  </tbody>\n",
       "</table>\n",
       "<p>69 rows × 3 columns</p>\n",
       "</div>"
      ],
      "text/plain": [
       "    Youtube channel       Category  Engagement rate\n",
       "173    ChrisBrownTV  Music & Dance           88.006\n",
       "580    jordanmatter  Music & Dance           36.681\n",
       "139   DrakeOfficial  Music & Dance           25.424\n",
       "317       farrukotv  Music & Dance           22.897\n",
       "932      Juice WRLD  Music & Dance           21.453\n",
       "..              ...            ...              ...\n",
       "413      DopeLyrics  Music & Dance            0.068\n",
       "121    UltraRecords  Music & Dance            0.065\n",
       "924      CJENMMUSIC  Music & Dance            0.059\n",
       "592  AtlanticVideos  Music & Dance            0.059\n",
       "616   CrazyFrogVEVO  Music & Dance            0.000\n",
       "\n",
       "[69 rows x 3 columns]"
      ]
     },
     "execution_count": 233,
     "metadata": {},
     "output_type": "execute_result"
    }
   ],
   "source": [
    "for_mini_subscribers_youtube('United States','Music & Dance')"
   ]
  },
  {
   "cell_type": "code",
   "execution_count": 234,
   "id": "d9fe5f4f",
   "metadata": {},
   "outputs": [],
   "source": [
    "def for_mega_subscribers_youtube(coun,cat):\n",
    "    df1=df_y[df_y['Country']==coun]\n",
    "    df1_mini=df1[df1['newSubscribers']>30]\n",
    "    return df1_mini.sort_values(by='Engagement rate',ascending=False).groupby('Category').get_group(cat).iloc[:,[1,3,-1]]"
   ]
  },
  {
   "cell_type": "code",
   "execution_count": 239,
   "id": "4908aefe",
   "metadata": {},
   "outputs": [
    {
     "data": {
      "text/html": [
       "<div>\n",
       "<style scoped>\n",
       "    .dataframe tbody tr th:only-of-type {\n",
       "        vertical-align: middle;\n",
       "    }\n",
       "\n",
       "    .dataframe tbody tr th {\n",
       "        vertical-align: top;\n",
       "    }\n",
       "\n",
       "    .dataframe thead th {\n",
       "        text-align: right;\n",
       "    }\n",
       "</style>\n",
       "<table border=\"1\" class=\"dataframe\">\n",
       "  <thead>\n",
       "    <tr style=\"text-align: right;\">\n",
       "      <th></th>\n",
       "      <th>Youtube channel</th>\n",
       "      <th>Category</th>\n",
       "      <th>Engagement rate</th>\n",
       "    </tr>\n",
       "  </thead>\n",
       "  <tbody>\n",
       "    <tr>\n",
       "      <th>62</th>\n",
       "      <td>AddictedA1</td>\n",
       "      <td>Movies</td>\n",
       "      <td>46.944</td>\n",
       "    </tr>\n",
       "    <tr>\n",
       "      <th>107</th>\n",
       "      <td>PowerKids</td>\n",
       "      <td>Movies</td>\n",
       "      <td>0.349</td>\n",
       "    </tr>\n",
       "    <tr>\n",
       "      <th>12</th>\n",
       "      <td>sabtv</td>\n",
       "      <td>Movies</td>\n",
       "      <td>0.063</td>\n",
       "    </tr>\n",
       "  </tbody>\n",
       "</table>\n",
       "</div>"
      ],
      "text/plain": [
       "    Youtube channel Category  Engagement rate\n",
       "62       AddictedA1   Movies           46.944\n",
       "107       PowerKids   Movies            0.349\n",
       "12            sabtv   Movies            0.063"
      ]
     },
     "execution_count": 239,
     "metadata": {},
     "output_type": "execute_result"
    }
   ],
   "source": [
    "for_mega_subscribers_youtube('India','Movies')"
   ]
  },
  {
   "cell_type": "code",
   "execution_count": null,
   "id": "ad731768",
   "metadata": {},
   "outputs": [],
   "source": []
  }
 ],
 "metadata": {
  "kernelspec": {
   "display_name": "Python 3 (ipykernel)",
   "language": "python",
   "name": "python3"
  },
  "language_info": {
   "codemirror_mode": {
    "name": "ipython",
    "version": 3
   },
   "file_extension": ".py",
   "mimetype": "text/x-python",
   "name": "python",
   "nbconvert_exporter": "python",
   "pygments_lexer": "ipython3",
   "version": "3.9.12"
  }
 },
 "nbformat": 4,
 "nbformat_minor": 5
}
